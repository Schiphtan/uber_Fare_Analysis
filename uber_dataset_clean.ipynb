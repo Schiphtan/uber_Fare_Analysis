{
 "cells": [
  {
   "cell_type": "code",
   "execution_count": null,
   "id": "97eabac3",
   "metadata": {},
   "outputs": [],
   "source": [
    "# STEP 1: Import Libraries\n",
    "import pandas as pd\n",
    "\n",
    "# STEP 2: Load the dataset (from uploaded file)\n",
    "df = pd.read_csv('uber.csv')\n",
    "\n",
    "# STEP 3: Preview the data\n",
    "print(\"First 5 rows:\\n\", df.head())\n",
    "print(\"\\nInfo:\\n\")\n",
    "print(df.info())\n",
    "\n",
    "# STEP 4: Handle missing values\n",
    "print(\"\\nMissing values:\\n\", df.isnull().sum())\n",
    "df = df.dropna()\n",
    "\n",
    "# STEP 5: Convert datetime column\n",
    "df['pickup_datetime'] = pd.to_datetime(df['pickup_datetime'], errors='coerce')\n",
    "df = df.dropna(subset=['pickup_datetime'])\n",
    "\n",
    "# STEP 6: Feature Engineering\n",
    "df['hour'] = df['pickup_datetime'].dt.hour\n",
    "df['day'] = df['pickup_datetime'].dt.day\n",
    "df['month'] = df['pickup_datetime'].dt.month\n",
    "df['weekday'] = df['pickup_datetime'].dt.day_name()\n",
    "df['year'] = df['pickup_datetime'].dt.year\n",
    "df['day_of_year'] = df['pickup_datetime'].dt.dayofyear\n",
    "df['peak_hour'] = df['hour'].apply(lambda x: 'Peak' if x in [7,8,9,17,18,19] else 'Off-Peak')\n",
    "\n",
    "# STEP 7: Remove invalid rows\n",
    "df = df[(df['fare_amount'] > 0) & (df['passenger_count'] > 0)]\n",
    "\n",
    "# STEP 8: Export cleaned CSV\n",
    "df.to_csv('uber_cleaned.csv', index=False)\n",
    "print(\"\\n✅ Cleaned dataset saved as 'uber_cleaned.csv'\")\n"
   ]
  },
  {
   "cell_type": "code",
   "execution_count": null,
   "id": "18c75bce",
   "metadata": {},
   "outputs": [],
   "source": [
    "# STEP 9: Download the cleaned CSV file\n",
    "from google.colab import files\n",
    "files.download('uber_cleaned.csv')\n"
   ]
  }
 ],
 "metadata": {
  "kernelspec": {
   "display_name": "Python 3",
   "language": "python",
   "name": "python3"
  },
  "language_info": {
   "codemirror_mode": {
    "name": "ipython",
    "version": 3
   },
   "file_extension": ".py",
   "mimetype": "text/x-python",
   "name": "python",
   "nbconvert_exporter": "python",
   "pygments_lexer": "ipython3",
   "version": "3.13.5"
  }
 },
 "nbformat": 4,
 "nbformat_minor": 5
}
